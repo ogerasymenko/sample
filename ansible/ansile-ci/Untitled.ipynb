{
 "cells": [
  {
   "cell_type": "code",
   "execution_count": 11,
   "metadata": {
    "collapsed": false
   },
   "outputs": [],
   "source": [
    "def r():\n",
    "    with open('docker_image_tag', 'r') as test:\n",
    "        string = test.readlines()[0]\n",
    "        if string.find(',') == -1:\n",
    "            text = int(string[-3:-2]) + 1\n",
    "            return str(text)\n",
    "        else:\n",
    "            text = int(string.split(',')[-1][-3])+1\n",
    "            return str(text)\n",
    "\n",
    "def w():\n",
    "    with open('docker_next_tag', 'w') as test:\n",
    "        test.write(\"[command]\\ncommand=docker build -t 172.16.0.100:5000/flask_app_v\"\\\n",
    "                   +r()+\" .\")\n",
    "w()"
   ]
  }
 ],
 "metadata": {
  "kernelspec": {
   "display_name": "Python 2",
   "language": "python",
   "name": "python2"
  },
  "language_info": {
   "codemirror_mode": {
    "name": "ipython",
    "version": 2
   },
   "file_extension": ".py",
   "mimetype": "text/x-python",
   "name": "python",
   "nbconvert_exporter": "python",
   "pygments_lexer": "ipython2",
   "version": "2.7.8"
  }
 },
 "nbformat": 4,
 "nbformat_minor": 2
}
