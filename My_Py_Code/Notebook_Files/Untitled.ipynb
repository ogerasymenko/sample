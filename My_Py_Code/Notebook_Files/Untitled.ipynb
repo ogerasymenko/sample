{
 "cells": [
  {
   "cell_type": "code",
   "execution_count": 2,
   "metadata": {
    "collapsed": false
   },
   "outputs": [
    {
     "data": {
      "text/plain": [
       "'/home/demo'"
      ]
     },
     "execution_count": 2,
     "metadata": {},
     "output_type": "execute_result"
    }
   ],
   "source": [
    "import os\n",
    "\n",
    "os.getenv('HOME')"
   ]
  },
  {
   "cell_type": "code",
   "execution_count": 4,
   "metadata": {
    "collapsed": false
   },
   "outputs": [
    {
     "name": "stdout",
     "output_type": "stream",
     "text": [
      "abc cde fgh\n"
     ]
    }
   ],
   "source": [
    "a = 'abc'\n",
    "b = 'cde'\n",
    "c = 'fgh'\n",
    "\n",
    "e = a + ' ' + b + ' ' + c\n",
    "print(e)"
   ]
  },
  {
   "cell_type": "code",
   "execution_count": 3,
   "metadata": {
    "collapsed": false
   },
   "outputs": [
    {
     "name": "stdout",
     "output_type": "stream",
     "text": [
      "key_1: value_1, value_2\n",
      "key_2: value_3, value_4, value_5\n"
     ]
    }
   ],
   "source": [
    "with open('test.txt') as test:\n",
    "    parsed_data = dict()\n",
    "    \n",
    "    for line in test:\n",
    "        line = line.strip()\n",
    "        if line.endswith(':'):\n",
    "            key = line\n",
    "            parsed_data[key] = ''\n",
    "            new_value = ''\n",
    "        else:\n",
    "            new_value += line + ', '\n",
    "            parsed_data[key] = new_value[:-2]\n",
    "            \n",
    "    for key in sorted(parsed_data.keys()):\n",
    "        print('{} {}'.format(key, parsed_data[key]))"
   ]
  },
  {
   "cell_type": "code",
   "execution_count": 10,
   "metadata": {
    "collapsed": false
   },
   "outputs": [
    {
     "data": {
      "text/plain": [
       "True"
      ]
     },
     "execution_count": 10,
     "metadata": {},
     "output_type": "execute_result"
    }
   ],
   "source": [
    "word = 'abc'\n",
    "not word.isspace()"
   ]
  },
  {
   "cell_type": "code",
   "execution_count": 36,
   "metadata": {
    "collapsed": false
   },
   "outputs": [
    {
     "data": {
      "text/plain": [
       "['x', '=', '2']"
      ]
     },
     "execution_count": 36,
     "metadata": {},
     "output_type": "execute_result"
    }
   ],
   "source": [
    "import re\n",
    "\n",
    "def tokenize(expression):\n",
    "    if expression == \"\":\n",
    "        return []\n",
    "\n",
    "    regex = re.compile(\"\\s*(=>|[-+*\\@/\\%=\\(\\)]|[A-Za-z_][A-Za-z0-9_]*|[0-9]*\\.?[0-9]+)\\s*\")\n",
    "    tokens = regex.findall(expression)\n",
    "    return [s for s in tokens if not s.isspace()]\n",
    "\n",
    "class Interpreter:\n",
    "    def __init__(self):\n",
    "        self.vars = {}\n",
    "        self.functions = {}\n",
    "\n",
    "    def input(self, expression):\n",
    "        tokens = tokenize(expression)\n",
    "        return tokens\n",
    "\n",
    "interpreter = Interpreter();\n",
    "interpreter.input('x = 2')"
   ]
  },
  {
   "cell_type": "code",
   "execution_count": 39,
   "metadata": {
    "collapsed": true
   },
   "outputs": [],
   "source": [
    "import sys\n",
    "from datetime import datetime\n",
    "\n",
    "class Test(object):\n",
    "    \"\"\"\n",
    "    Implements the test interface as described here:\n",
    "    http://www.codewars.com/docs/python-test-reference-1\n",
    "    \"\"\"\n",
    "    \n",
    "    def __init__(self):\n",
    "        self.desc = \"Undefined\"\n",
    "        self.it = \"Undefined\"\n",
    "        self.failures = 0\n",
    "        self.successes = 0\n",
    "        self.start = datetime.now()\n",
    "\n",
    "    def describe(self, msg):\n",
    "        print(msg)\n",
    "        self.desc = msg\n",
    "\n",
    "    def it(self, msg):\n",
    "        print(msg)\n",
    "        self.it = msg\n",
    "\n",
    "    def _assert(self, p, actual, expected, msg):\n",
    "        if not p(expected, actual):\n",
    "            self._error(msg, expected, actual)\n",
    "        else:\n",
    "            self._success()\n",
    "\n",
    "    def assert_equals(self, actual, expected, msg=\"{} should be {}\"):\n",
    "        eq = lambda a, b: a == b\n",
    "        self._assert(eq, actual, expected, msg)\n",
    "\n",
    "    def assert_not_equals(self, actual, unexpected, msg=\"{} should be {}\"):\n",
    "        neq = lambda a, b: a != b\n",
    "        self._assert(neq, actual, unexpected, msg)\n",
    "\n",
    "    def expect_error(self, msg, fn):\n",
    "        try:\n",
    "            fn()\n",
    "            self._error(\"Expected an error\" if not msg else msg, None, None)\n",
    "        except:\n",
    "            self._success()\n",
    "\n",
    "    def expect(self, b, msg=\"Unexpected result\"):\n",
    "        be = lambda a, e: b\n",
    "        self._assert(be, b, None, msg)\n",
    "\n",
    "    def _error(self, msg, expected, actual):\n",
    "        print(\"*** ERROR: {}\".format(msg.format(actual, expected)))\n",
    "        self.failures += 1\n",
    "\n",
    "    def _success(self):\n",
    "        print(\"Test Passed\")\n",
    "        self.successes += 1\n",
    "\n",
    "    def report(self):\n",
    "        end = datetime.now()\n",
    "        print(\"\\nTest run complete\")\n",
    "        print(\"Passed: {}\".format(self.successes))\n",
    "        print(\"Failed: {}\".format(self.failures))\n",
    "        print(\"Total:  {}\".format(self.successes + self.failures))\n",
    "\n",
    "        delta = end - self.start\n",
    "        print(\"Process took {:,}ms to complete\".format((delta.microseconds + 1000000 * delta.seconds) // 1000))\n",
    "        if self.failures == 0:\n",
    "            print(\"Happy Days!\")\n",
    "        else:\n",
    "            print(\"Better luck next time!\")\n",
    "\n",
    "test = Test()\n",
    "sys.exitfunc=test.report"
   ]
  },
  {
   "cell_type": "code",
   "execution_count": 35,
   "metadata": {
    "collapsed": false
   },
   "outputs": [
    {
     "name": "stdout",
     "output_type": "stream",
     "text": [
      "Basic tests:\n",
      "Test Passed\n",
      "Test Passed\n",
      "Test Passed\n",
      "Test Passed\n",
      "Test Passed\n",
      "Test Passed\n",
      "Test Passed\n",
      "Test Passed\n"
     ]
    }
   ],
   "source": [
    "def how_many_dalmatians(number):\n",
    "    dogs = [\"Hardly any\", \"More than a handful!\", \"Woah that's a lot of dogs!\", \"101 DALMATIONS!!!\"]\n",
    "    if 0 < number <= 10:\n",
    "        respond =  dogs[0] \n",
    "    elif 11 <= number <= 50:\n",
    "        respond = dogs[1] \n",
    "    elif number == 101:\n",
    "        respond = dogs[3] \n",
    "    else:\n",
    "        respond = dogs[2]\n",
    "  \n",
    "    return respond\n",
    "                                                                                    \n",
    "how_many_dalmatians(10)\n",
    "\n",
    "Test = Test()\n",
    "Test.describe(\"Basic tests:\")\n",
    "Test.assert_equals(how_many_dalmatians(26), \"More than a handful!\")\n",
    "Test.assert_equals(how_many_dalmatians(8), \"Hardly any\")\n",
    "Test.assert_equals(how_many_dalmatians(14), \"More than a handful!\")\n",
    "Test.assert_equals(how_many_dalmatians(80), \"Woah that's a lot of dogs!\")\n",
    "Test.assert_equals(how_many_dalmatians(100), \"Woah that's a lot of dogs!\")\n",
    "Test.assert_equals(how_many_dalmatians(50), \"More than a handful!\")\n",
    "Test.assert_equals(how_many_dalmatians(10), \"Hardly any\")\n",
    "Test.assert_equals(how_many_dalmatians(101), \"101 DALMATIONS!!!\")"
   ]
  },
  {
   "cell_type": "markdown",
   "metadata": {},
   "source": [
    "After a hard quarter in the office you decide to get some rest on a vacation. So you will book a flight for you and your girlfriend and try to leave all the mess behind you.\n",
    "\n",
    "You will need a rental car in order for you to get around in your vacation. The manager of the car rental makes you some good offers.\n",
    "\n",
    "Every day you rent the car costs $40. If you rent the car for 7 or more days, you get $50 off your total. Alternatively, if you rent the car for 3 or more days, you get $20 off your total.\n",
    "\n",
    "Write a code that gives out the total amount for different days(d)."
   ]
  },
  {
   "cell_type": "code",
   "execution_count": 10,
   "metadata": {
    "collapsed": false
   },
   "outputs": [
    {
     "name": "stdout",
     "output_type": "stream",
     "text": [
      "Days quantity should be grate than 0\n",
      "Basic tests:\n",
      "Test Passed\n",
      "Test Passed\n",
      "Test Passed\n",
      "Test Passed\n"
     ]
    }
   ],
   "source": [
    "def rental_car_cost(days):\n",
    "    cost = 40\n",
    "    if days < 1:\n",
    "        return \"Days quantity should be grate than 0\"\n",
    "    elif 1 <= days <= 2:\n",
    "        cost = days * cost\n",
    "    elif 3 <= days <= 6:\n",
    "        cost = (days * cost) - 20\n",
    "    elif days >= 7:\n",
    "        cost = (days * cost) - 50\n",
    "    return cost\n",
    "\n",
    "print(rental_car_cost(0))\n",
    "Test = Test()\n",
    "Test.describe(\"Basic tests:\")\n",
    "Test.assert_equals(rental_car_cost(1),40)\n",
    "Test.assert_equals(rental_car_cost(4),140)\n",
    "Test.assert_equals(rental_car_cost(7),230)\n",
    "Test.assert_equals(rental_car_cost(8),270)"
   ]
  },
  {
   "cell_type": "code",
   "execution_count": 16,
   "metadata": {
    "collapsed": false
   },
   "outputs": [
    {
     "data": {
      "text/plain": [
       "['Первый в истории Днепра экомарафон соберет более 1000 участников из разных стран мира,среди которых — участники Олимпийских игр и чемпионы Европы.',\n",
       " 'Днепр готовится принять первый в своейистории масштабный забег на полную марафонскую дистанцию — DniproEcoMarathon.',\n",
       " 'Соревнование, котороеудалось организовать благодаря программе мэра города Бориса Филатова «Днепр — спортивная столица» и многочисленным спонсорам, состоится уже в это воскресенье — 25 сентября.',\n",
       " 'Об особенностях и сюрпризахгромкого спортивного события года, призовой фонд которого составил 309 тысяч грн, поговорили напресс-конференции 21 сентября.']"
      ]
     },
     "execution_count": 16,
     "metadata": {},
     "output_type": "execute_result"
    }
   ],
   "source": [
    "import nltk\n",
    "from nltk.tokenize import sent_tokenize\n",
    "\n",
    "text = '''Первый в истории Днепра экомарафон соберет более 1000 участников из разных стран мира,\\\n",
    "среди которых — участники Олимпийских игр и чемпионы Европы. Днепр готовится принять первый в своей\\\n",
    "истории масштабный забег на полную марафонскую дистанцию — DniproEcoMarathon. Соревнование, которое\\\n",
    "удалось организовать благодаря программе мэра города Бориса Филатова «Днепр — спортивная столица» и \\\n",
    "многочисленным спонсорам, состоится уже в это воскресенье — 25 сентября. Об особенностях и сюрпризах\\\n",
    "громкого спортивного события года, призовой фонд которого составил 309 тысяч грн, поговорили на\\\n",
    "пресс-конференции 21 сентября.'''\n",
    "\n",
    "sent_tokenize(text)\n"
   ]
  },
  {
   "cell_type": "code",
   "execution_count": 35,
   "metadata": {
    "collapsed": false,
    "scrolled": true
   },
   "outputs": [
    {
     "name": "stdout",
     "output_type": "stream",
     "text": [
      "['Первый', 'в', 'истории', 'Днепра', 'экомарафон', 'соберет', 'более', '1000', 'участников', 'из', 'разных', 'стран', 'мира', ',', 'среди', 'которых', '—', 'участники', 'Олимпийских', 'игр', 'и', 'чемпионы', 'Европы', '.', 'Днепр', 'готовится', 'принять', 'первый', 'в', 'своейистории', 'масштабный', 'забег', 'на', 'полную', 'марафонскую', 'дистанцию', '—', 'DniproEcoMarathon', '.', 'Соревнование', ',', 'котороеудалось', 'организовать', 'благодаря', 'программе', 'мэра', 'города', 'Бориса', 'Филатова', '«Днепр', '—', 'спортивная', 'столица»', 'и', 'многочисленным', 'спонсорам', ',', 'состоится', 'уже', 'в', 'это', 'воскресенье', '—', '25', 'сентября', '.', 'Об', 'особенностях', 'и', 'сюрпризахгромкого', 'спортивного', 'события', 'года', ',', 'призовой', 'фонд', 'которого', 'составил', '309', 'тысяч', 'грн', ',', 'поговорили', 'напресс-конференции', '21', 'сентября', '.']\n",
      "\n",
      "{'тысяч': 1, 'которых': 1, 'Филатова': 1, 'на': 1, 'воскресенье': 1, 'города': 1, 'истории': 1, 'DniproEcoMarathon': 1, 'призовой': 1, 'среди': 1, 'мира': 1, '«Днепр': 1, 'грн': 1, '—': 4, '.': 4, 'спортивная': 1, 'это': 1, 'поговорили': 1, 'марафонскую': 1, 'масштабный': 1, 'участников': 1, 'спортивного': 1, 'столица»': 1, 'сюрпризахгромкого': 1, 'напресс-конференции': 1, 'котороеудалось': 1, 'особенностях': 1, 'чемпионы': 1, 'спонсорам': 1, ',': 5, 'экомарафон': 1, 'полную': 1, 'и': 3, 'забег': 1, 'стран': 1, 'игр': 1, 'разных': 1, 'Европы': 1, 'мэра': 1, 'в': 3, '309': 1, 'уже': 1, 'участники': 1, 'многочисленным': 1, 'сентября': 2, 'Днепр': 1, 'первый': 1, 'из': 1, 'благодаря': 1, 'составил': 1, '25': 1, 'Бориса': 1, 'принять': 1, 'фонд': 1, '21': 1, 'Олимпийских': 1, 'соберет': 1, 'программе': 1, 'которого': 1, '1000': 1, 'готовится': 1, 'Об': 1, 'Первый': 1, 'организовать': 1, 'состоится': 1, 'дистанцию': 1, 'года': 1, 'события': 1, 'своейистории': 1, 'Днепра': 1, 'более': 1, 'Соревнование': 1}\n",
      "\n",
      "[',', '.', '1000', '21', '25', '309', 'DniproEcoMarathon', '«Днепр', 'Бориса', 'Днепр', 'Днепра', 'Европы', 'Об', 'Олимпийских', 'Первый', 'Соревнование', 'Филатова', 'благодаря', 'более', 'в', 'воскресенье', 'года', 'города', 'готовится', 'грн', 'дистанцию', 'забег', 'и', 'игр', 'из', 'истории', 'которого', 'котороеудалось', 'которых', 'марафонскую', 'масштабный', 'мира', 'многочисленным', 'мэра', 'на', 'напресс-конференции', 'организовать', 'особенностях', 'первый', 'поговорили', 'полную', 'призовой', 'принять', 'программе', 'разных', 'своейистории', 'сентября', 'соберет', 'события', 'составил', 'состоится', 'спонсорам', 'спортивная', 'спортивного', 'среди', 'столица»', 'стран', 'сюрпризахгромкого', 'тысяч', 'уже', 'участники', 'участников', 'фонд', 'чемпионы', 'экомарафон', 'это', '—']\n"
     ]
    }
   ],
   "source": [
    "import nltk\n",
    "\n",
    "text = nltk.word_tokenize('''Первый в истории Днепра экомарафон соберет более 1000 участников из разных стран мира,\\\n",
    "среди которых — участники Олимпийских игр и чемпионы Европы. Днепр готовится принять первый в своей\\\n",
    "истории масштабный забег на полную марафонскую дистанцию — DniproEcoMarathon. Соревнование, которое\\\n",
    "удалось организовать благодаря программе мэра города Бориса Филатова «Днепр — спортивная столица» и \\\n",
    "многочисленным спонсорам, состоится уже в это воскресенье — 25 сентября. Об особенностях и сюрпризах\\\n",
    "громкого спортивного события года, призовой фонд которого составил 309 тысяч грн, поговорили на\\\n",
    "пресс-конференции 21 сентября.''')\n",
    "print(text)\n",
    "\n",
    "print()\n",
    "hist = {}\n",
    "for word in text:\n",
    "    hist[word] = hist.get(word, 0) + 1\n",
    "        \n",
    "print(hist)\n",
    "\n",
    "print()\n",
    "print(sorted(set(text)))\n"
   ]
  },
  {
   "cell_type": "code",
   "execution_count": null,
   "metadata": {
    "collapsed": true
   },
   "outputs": [],
   "source": []
  },
  {
   "cell_type": "markdown",
   "metadata": {},
   "source": [
    "Given a number n, make a down arrow shaped pattern.\n",
    "\n",
    "For example, when n = 5, the output would be:\n",
    "\n",
    "123454321\n",
    " 1234321\n",
    "  12321\n",
    "   121\n",
    "    1\n",
    "\n",
    "An important thing to note in the above example is that the numbers greater than 9 still stay single digit, like after 9 it would be 0 - 9 again instead of 10 - 19.\n",
    "\n",
    "Note: There are spaces for the indentation on the left of each line and no spaces on the right."
   ]
  },
  {
   "cell_type": "code",
   "execution_count": 47,
   "metadata": {
    "collapsed": false
   },
   "outputs": [
    {
     "name": "stdout",
     "output_type": "stream",
     "text": [
      "123454321 \n",
      " 1234321  \n",
      "  12321   \n",
      "   121    \n",
      "    1     \n"
     ]
    }
   ],
   "source": [
    "def count_down(number):\n",
    "    if number > 0:\n",
    "        n = number\n",
    "        while n > 0:\n",
    "            a = [str(x) for x in range(1, n+1, 1)]\n",
    "            b = [str(x) for x in range(n, 0, -1)]\n",
    "            c = ((''.join(a)) + (''.join(b[1:])))\n",
    "            print(c.center(number*2, ' '))\n",
    "            n -= 1\n",
    "    else:\n",
    "        return ''\n",
    "\n",
    "count_down(5)"
   ]
  },
  {
   "cell_type": "markdown",
   "metadata": {},
   "source": [
    "To Stream or Not to Stream.\n",
    "\n",
    "When downloading large files/data, we probably would prefer the streaming mode while making the get call. If we use the stream parameter and set it to True, the download will not immediately start. The file download will start when we try to access the content property or try to iterate over the content using iter_content / iter_lines. \n",
    "\n",
    "If we set stream to False, all the content is downloaded immediately and put into memory. If the file size is large, this can soon cause issues with higher memory consumption. On the other hand – if we set stream to False, the content is not downloaded, but the headers are downloaded and the connection is kept open. We can now choose to proceed downloading the file or simply cancel it.\n",
    "\n",
    "But we must also remember that if we decide to stream the file, the connection will remain open and can not go back to the connection pool. If we’re working with many large files, these might lead to some efficiency. So we should carefully choose where we should stream. And we should take proper care to close the connections and dispose any unused resources in such scenarios. \n",
    "\n",
    "Iterating The Content.\n",
    "\n",
    "By setting the stream parameter, we have delayed the download and avoided taking up large chunks of memory. The headers have been downloaded but the body of the file still awaits retrieval. We can now get the data by accessing the content property or choosing to iterate over the content. Accessing the content directly would read the entire response data to memory at once. That is a scenario we want to avoid when our target file is quite large.\n",
    "\n",
    "So we are left with the choice to iterate over the content. We can use iter_content where the content would be read chunk by chunk. Or we can use iter_lines where the content would be read line by line. Either way, the entire file will not be loaded into memory and keep the memory usage down. "
   ]
  },
  {
   "cell_type": "code",
   "execution_count": null,
   "metadata": {
    "collapsed": true
   },
   "outputs": [],
   "source": [
    "response = requests.get(url, stream=True)\n",
    "handle = open(target_path, \"wb\")\n",
    "for chunk in response.iter_content(chunk_size=512):\n",
    "    if chunk:  # filter out keep-alive new chunks\n",
    "        handle.write(chunk)"
   ]
  }
 ],
 "metadata": {
  "kernelspec": {
   "display_name": "Python 3",
   "language": "python",
   "name": "python3"
  },
  "language_info": {
   "codemirror_mode": {
    "name": "ipython",
    "version": 3
   },
   "file_extension": ".py",
   "mimetype": "text/x-python",
   "name": "python",
   "nbconvert_exporter": "python",
   "pygments_lexer": "ipython3",
   "version": "3.5.2"
  }
 },
 "nbformat": 4,
 "nbformat_minor": 1
}
