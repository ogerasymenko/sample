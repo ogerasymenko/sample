{
 "cells": [
  {
   "cell_type": "code",
   "execution_count": 15,
   "metadata": {
    "collapsed": false
   },
   "outputs": [
    {
     "name": "stdout",
     "output_type": "stream",
     "text": [
      "\u001b[5m\u001b[7m\u001b[31mHello, World!\u001b[0m\n",
      "\u001b[1m\u001b[32mHello, World!\u001b[0m\n",
      "1 2 3 4 5 "
     ]
    },
    {
     "name": "stderr",
     "output_type": "stream",
     "text": [
      "\u001b[1m\u001b[31mAttention!\u001b[0m\n"
     ]
    }
   ],
   "source": [
    "import sys\n",
    "from termcolor import colored, cprint\n",
    "\n",
    "text = colored('Hello, World!', 'red', attrs=['reverse', 'blink'])\n",
    "print(text)\n",
    "cprint('Hello, World!', 'green', attrs=['bold'])\n",
    "cprint(\"Attention!\", 'red', attrs=['bold'], file=sys.stderr)\n",
    "for _ in range(1,6):\n",
    "    print(_, end=' ')"
   ]
  },
  {
   "cell_type": "code",
   "execution_count": 6,
   "metadata": {
    "collapsed": false,
    "scrolled": true
   },
   "outputs": [
    {
     "name": "stdout",
     "output_type": "stream",
     "text": [
      "Help on function cprint in module termcolor:\n",
      "\n",
      "cprint(text, color=None, on_color=None, attrs=None, **kwargs)\n",
      "    Print colorize text.\n",
      "    \n",
      "    It accepts arguments of print function.\n",
      "\n"
     ]
    }
   ],
   "source": [
    "help(cprint)"
   ]
  },
  {
   "cell_type": "markdown",
   "metadata": {},
   "source": [
    "\n",
    "Text Properties\n",
    "\n",
    "    Text colors:\n",
    "\n",
    "            grey\n",
    "            red\n",
    "            green\n",
    "            yellow\n",
    "            blue\n",
    "            magenta\n",
    "            cyan\n",
    "            white\n",
    "\n",
    "    Text highlights:\n",
    "\n",
    "            on_grey\n",
    "            on_red\n",
    "            on_green\n",
    "            on_yellow\n",
    "            on_blue\n",
    "            on_magenta\n",
    "            on_cyan\n",
    "            on_white\n",
    "\n",
    "    Attributes:\n",
    "\n",
    "            bold\n",
    "            dark\n",
    "            underline\n",
    "            blink\n",
    "            reverse\n",
    "            concealed\n"
   ]
  }
 ],
 "metadata": {
  "kernelspec": {
   "display_name": "Python 3",
   "language": "python",
   "name": "python3"
  },
  "language_info": {
   "codemirror_mode": {
    "name": "ipython",
    "version": 3
   },
   "file_extension": ".py",
   "mimetype": "text/x-python",
   "name": "python",
   "nbconvert_exporter": "python",
   "pygments_lexer": "ipython3",
   "version": "3.5.2"
  }
 },
 "nbformat": 4,
 "nbformat_minor": 1
}
