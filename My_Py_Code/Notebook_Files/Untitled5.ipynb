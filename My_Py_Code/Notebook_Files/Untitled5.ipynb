{
 "cells": [
  {
   "cell_type": "code",
   "execution_count": 5,
   "metadata": {
    "collapsed": false
   },
   "outputs": [
    {
     "name": "stdout",
     "output_type": "stream",
     "text": [
      "\u001b[5m\u001b[7m\u001b[31mHello, World!\u001b[0m\n",
      "\u001b[1m\u001b[32mHello, World!\u001b[0m\n",
      "1 2 3 4 5 "
     ]
    },
    {
     "name": "stderr",
     "output_type": "stream",
     "text": [
      "\u001b[1m\u001b[31mAttention!\u001b[0m\n"
     ]
    }
   ],
   "source": [
    "import sys\n",
    "from termcolor import colored, cprint\n",
    "\n",
    "text = colored('Hello, World!', 'red', attrs=['reverse', 'blink'])\n",
    "print(text)\n",
    "cprint('Hello, World!', 'green', attrs=['bold'])\n",
    "cprint(\"Attention!\", 'red', attrs=['bold'], file=sys.stderr)\n",
    "for _ in range(1,6):\n",
    "    print(_, end=' ')"
   ]
  },
  {
   "cell_type": "code",
   "execution_count": 6,
   "metadata": {
    "collapsed": false,
    "scrolled": true
   },
   "outputs": [
    {
     "name": "stdout",
     "output_type": "stream",
     "text": [
      "Help on function cprint in module termcolor:\n",
      "\n",
      "cprint(text, color=None, on_color=None, attrs=None, **kwargs)\n",
      "    Print colorize text.\n",
      "    \n",
      "    It accepts arguments of print function.\n",
      "\n"
     ]
    }
   ],
   "source": [
    "help(cprint)"
   ]
  },
  {
   "cell_type": "markdown",
   "metadata": {},
   "source": [
    "\n",
    "Text Properties\n",
    "\n",
    "    Text colors:\n",
    "\n",
    "            grey\n",
    "            red\n",
    "            green\n",
    "            yellow\n",
    "            blue\n",
    "            magenta\n",
    "            cyan\n",
    "            white\n",
    "\n",
    "    Text highlights:\n",
    "\n",
    "            on_grey\n",
    "            on_red\n",
    "            on_green\n",
    "            on_yellow\n",
    "            on_blue\n",
    "            on_magenta\n",
    "            on_cyan\n",
    "            on_white\n",
    "\n",
    "    Attributes:\n",
    "\n",
    "            bold\n",
    "            dark\n",
    "            underline\n",
    "            blink\n",
    "            reverse\n",
    "            concealed\n"
   ]
  },
  {
   "cell_type": "code",
   "execution_count": 3,
   "metadata": {
    "collapsed": true
   },
   "outputs": [],
   "source": [
    "text = '''PGRpdiBkaXI9Imx0ciI+PGRpdiBzdHlsZT0iZm9udC1zaXplOjE0LjRweCI+PGZvbnQgc2l6ZT0i\n",
    "MSIgc3R5bGU9ImZvbnQtc2l6ZTp4LXNtYWxsIj7QmNGC0L7Qs9C+OsKgPC9mb250PjxzcGFuIHN0\n",
    "eWxlPSJjb2xvcjpyZ2IoMTIwLDEzMywxNDEpO2ZvbnQtZmFtaWx5OmFyaWFsLGhlbHZldGljYSxz\n",
    "YW5zLXNlcmlmO2ZvbnQtc2l6ZToxMnB4O2ZvbnQtd2VpZ2h0OmJvbGQiPjU3Ljc1PC9zcGFuPjxm\n",
    "b250IHNpemU9IjEiPjxzcGFuIHN0eWxlPSJjb2xvcjpyZ2IoMTIwLDEzMywxNDEpO2ZvbnQtZmFt\n",
    "aWx5OmFyaWFsLGhlbHZldGljYSxzYW5zLXNlcmlmO2ZvbnQtd2VpZ2h0OmJvbGQ7bGluZS1oZWln\n",
    "aHQ6MjFweCI+JDwvc3Bhbj7CoNC/0L4g0LrRg9GA0YHRgyAyNi4xNSAtIDE1MTAg0LPRgNC9wqA8\n",
    "L2ZvbnQ+PC9kaXY+PGRpdiBzdHlsZT0iZm9udC1zaXplOjE0LjRweCI+PHNwYW4gc3R5bGU9ImZv\n",
    "bnQtc2l6ZTp4LXNtYWxsIj7Qn9GA0L7RgdGM0LHQsCDQsiDQvdCw0LfQvdCw0YfQtdC90LjQuCDQ\n",
    "v9C70LDRgtC10LbQsCDRg9C60LDQt9Cw0YLRjCDQvdC+0LzQtdGAINC30LDQutCw0LfQsDwvc3Bh\n",
    "bj48L2Rpdj48ZGl2IHN0eWxlPSJmb250LXNpemU6MTQuNHB4Ij48ZGl2Pjxmb250IHNpemU9IjEi\n",
    "PtCf0L7QtNGA0L7QsdC90LDRjyDQuNC90YTQvtGA0LzQsNGG0LjRjyDQviDQktCw0YjQtdC8INC3\n",
    "0LDQutCw0LfQtSDQsiDQu9C40YfQvdC+0Lwg0LrQsNCx0LjQvdC10YLQtTwvZm9udD48L2Rpdj48\n",
    "ZGl2Pjxmb250IHNpemU9IjEiPjxicj48L2ZvbnQ+PC9kaXY+PGRpdj48Zm9udCBzaXplPSIxIj48\n",
    "c3BhbiBzdHlsZT0iY29sb3I6cmdiKDM4LDUwLDU2KTtsaW5lLWhlaWdodDoxNnB4Ij7QndCw0LjQ\n",
    "vNC10L3QvtCy0LDQvdC40LU6PC9zcGFuPjxiciBzdHlsZT0iY29sb3I6cmdiKDM4LDUwLDU2KTts\n",
    "aW5lLWhlaWdodDoxNnB4Ij48c3BhbiBzdHlsZT0iY29sb3I6cmdiKDM4LDUwLDU2KTtsaW5lLWhl\n",
    "aWdodDoxNnB4Ij7QndC40YjQv9C+0YDQsCDQni7QkC4g0KTQntCfIFVBSDwvc3Bhbj48YnIgc3R5\n",
    "bGU9ImNvbG9yOnJnYigzOCw1MCw1Nik7bGluZS1oZWlnaHQ6MTZweCI+PHNwYW4gc3R5bGU9ImNv\n",
    "bG9yOnJnYigzOCw1MCw1Nik7bGluZS1oZWlnaHQ6MTZweCI+0JrQvtC0INCV0JPQoNCf0J7QoyjQ\n",
    "ntCa0J/Qnik6PC9zcGFuPjxiciBzdHlsZT0iY29sb3I6cmdiKDM4LDUwLDU2KTtsaW5lLWhlaWdo\n",
    "dDoxNnB4Ij48c3BhbiBzdHlsZT0iY29sb3I6cmdiKDM4LDUwLDU2KTtsaW5lLWhlaWdodDoxNnB4\n",
    "Ij4zMTE3MDE1ODEwPC9zcGFuPjxiciBzdHlsZT0iY29sb3I6cmdiKDM4LDUwLDU2KTtsaW5lLWhl\n",
    "aWdodDoxNnB4Ij48c3BhbiBzdHlsZT0iY29sb3I6cmdiKDM4LDUwLDU2KTtsaW5lLWhlaWdodDox\n",
    "NnB4Ij7QodGH0LXRgjo8L3NwYW4+PGJyIHN0eWxlPSJjb2xvcjpyZ2IoMzgsNTAsNTYpO2xpbmUt\n",
    "aGVpZ2h0OjE2cHgiPjxzcGFuIHN0eWxlPSJjb2xvcjpyZ2IoMzgsNTAsNTYpO2xpbmUtaGVpZ2h0\n",
    "OjE2cHgiPjI2MDA4MDU2MTIxMTUwPC9zcGFuPjxiciBzdHlsZT0iY29sb3I6cmdiKDM4LDUwLDU2\n",
    "KTtsaW5lLWhlaWdodDoxNnB4Ij48c3BhbiBzdHlsZT0iY29sb3I6cmdiKDM4LDUwLDU2KTtsaW5l\n",
    "LWhlaWdodDoxNnB4Ij7QmtC+0LQg0LHQsNC90LrQsCjQnNCk0J4pOjwvc3Bhbj48YnIgc3R5bGU9\n",
    "ImNvbG9yOnJnYigzOCw1MCw1Nik7bGluZS1oZWlnaHQ6MTZweCI+PHNwYW4gc3R5bGU9ImNvbG9y\n",
    "OnJnYigzOCw1MCw1Nik7bGluZS1oZWlnaHQ6MTZweCI+MzgwNzc1PC9zcGFuPjxiciBzdHlsZT0i\n",
    "Y29sb3I6cmdiKDM4LDUwLDU2KTtsaW5lLWhlaWdodDoxNnB4Ij48c3BhbiBzdHlsZT0iY29sb3I6\n",
    "cmdiKDM4LDUwLDU2KTtsaW5lLWhlaWdodDoxNnB4Ij7QndCw0LjQvNC10L3QvtCy0LDQvdC40LUg\n",
    "0LHQsNC90LrQsDo8L3NwYW4+PGJyIHN0eWxlPSJjb2xvcjpyZ2IoMzgsNTAsNTYpO2xpbmUtaGVp\n",
    "Z2h0OjE2cHgiPjxzcGFuIHN0eWxlPSJjb2xvcjpyZ2IoMzgsNTAsNTYpO2xpbmUtaGVpZ2h0OjE2\n",
    "cHgiPtCkLdCvJnF1b3Q70JrQmNCH0JLQoUnQokkmcXVvdDvQn9CQ0KIg0JrQkSZxdW90O9Cf0KDQ\n",
    "mNCS0JDQotCR0JDQndCaJnF1b3Q7LNCcLtCa0JjQh9CSINCa0LjRl9CyPC9zcGFuPjxiciBzdHls\n",
    "ZT0iY29sb3I6cmdiKDM4LDUwLDU2KTtsaW5lLWhlaWdodDoxNnB4Ij48YnIgc3R5bGU9ImNvbG9y\n",
    "OnJnYigzOCw1MCw1Nik7bGluZS1oZWlnaHQ6MTZweCI+PHNwYW4gc3R5bGU9ImNvbG9yOnJnYigz\n",
    "OCw1MCw1Nik7bGluZS1oZWlnaHQ6MTZweCI+4oCL0JrQsNGA0YLQsCA1MTY5IDMzMDUgMDk4OCA2\n",
    "NDc2PC9zcGFuPjwvZm9udD48L2Rpdj48L2Rpdj48L2Rpdj4NCg==\n",
    "--94eb2c1155f0f6b44c053fac495f'''"
   ]
  },
  {
   "cell_type": "code",
   "execution_count": 27,
   "metadata": {
    "collapsed": false
   },
   "outputs": [
    {
     "data": {
      "text/plain": [
       "'<div dir=\"ltr\"><div style=\"font-size:14.4px\"><font size=\"1\" style=\"font-size:x-small\">Итого:\\xa0</font><span style=\"color:rgb(120,133,141);font-family:arial,helvetica,sans-serif;font-size:12px;font-weight:bold\">57.75</span><font size=\"1\"><span style=\"color:rgb(120,133,141);font-family:arial,helvetica,sans-serif;font-weight:bold;line-height:21px\">$</span>\\xa0по курсу 26.15 - 1510 грн\\xa0</font></div><div style=\"font-size:14.4px\"><span style=\"font-size:x-small\">Просьба в назначении платежа указать номер заказа</span></div><div style=\"font-size:14.4px\"><div><font size=\"1\">Подробная информация о Вашем заказе в личном кабинете</font></div><div><font size=\"1\"><br></font></div><div><font size=\"1\"><span style=\"color:rgb(38,50,56);line-height:16px\">Наименование:</span><br style=\"color:rgb(38,50,56);line-height:16px\"><span style=\"color:rgb(38,50,56);line-height:16px\">Нишпора О.А. ФОП UAH</span><br style=\"color:rgb(38,50,56);line-height:16px\"><span style=\"color:rgb(38,50,56);line-height:16px\">Код ЕГРПОУ(ОКПО):</span><br style=\"color:rgb(38,50,56);line-height:16px\"><span style=\"color:rgb(38,50,56);line-height:16px\">3117015810</span><br style=\"color:rgb(38,50,56);line-height:16px\"><span style=\"color:rgb(38,50,56);line-height:16px\">Счет:</span><br style=\"color:rgb(38,50,56);line-height:16px\"><span style=\"color:rgb(38,50,56);line-height:16px\">26008056121150</span><br style=\"color:rgb(38,50,56);line-height:16px\"><span style=\"color:rgb(38,50,56);line-height:16px\">Код банка(МФО):</span><br style=\"color:rgb(38,50,56);line-height:16px\"><span style=\"color:rgb(38,50,56);line-height:16px\">380775</span><br style=\"color:rgb(38,50,56);line-height:16px\"><span style=\"color:rgb(38,50,56);line-height:16px\">Наименование банка:</span><br style=\"color:rgb(38,50,56);line-height:16px\"><span style=\"color:rgb(38,50,56);line-height:16px\">Ф-Я&quot;КИЇВСIТI&quot;ПАТ КБ&quot;ПРИВАТБАНК&quot;,М.КИЇВ Київ</span><br style=\"color:rgb(38,50,56);line-height:16px\"><br style=\"color:rgb(38,50,56);line-height:16px\"><span style=\"color:rgb(38,50,56);line-height:16px\">\\u200bКарта 5169 3305 0988 6476</span></font></div></div></div>\\r\\n'"
      ]
     },
     "execution_count": 27,
     "metadata": {},
     "output_type": "execute_result"
    }
   ],
   "source": [
    "import base64\n",
    "import re\n",
    "\n",
    "opens = re.compile(r\"<[^>]*>\")\n",
    "closes = re.compile(r\"<\\/[^>].*>\")\n",
    "base = base64.b64decode(text)\n",
    "str(base,'utf-8')\n",
    "# new_string = pattern.sub(' ', string)\n",
    "# arr = new_string.split(' ')\n",
    "# for i in arr:\n",
    "#    if i:\n",
    "#        print(i, end=' ')"
   ]
  },
  {
   "cell_type": "code",
   "execution_count": 27,
   "metadata": {
    "collapsed": false
   },
   "outputs": [
    {
     "name": "stdout",
     "output_type": "stream",
     "text": [
      "*****\n",
      "65536\n",
      "*****\n"
     ]
    }
   ],
   "source": [
    "def decor(func):\n",
    "    def wrap(number):\n",
    "        print(\"*****\")\n",
    "        func(number)\n",
    "        print(\"*****\")\n",
    "    return wrap\n",
    "\n",
    "@decor\n",
    "def print_text(number):\n",
    "    print(number**16)\n",
    "\n",
    "    \n",
    "print_text(2)"
   ]
  }
 ],
 "metadata": {
  "kernelspec": {
   "display_name": "Python 3",
   "language": "python",
   "name": "python3"
  },
  "language_info": {
   "codemirror_mode": {
    "name": "ipython",
    "version": 3
   },
   "file_extension": ".py",
   "mimetype": "text/x-python",
   "name": "python",
   "nbconvert_exporter": "python",
   "pygments_lexer": "ipython3",
   "version": "3.5.2"
  }
 },
 "nbformat": 4,
 "nbformat_minor": 1
}
