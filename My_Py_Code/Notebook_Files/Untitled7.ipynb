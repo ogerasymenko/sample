{
 "cells": [
  {
   "cell_type": "code",
   "execution_count": null,
   "metadata": {
    "collapsed": true
   },
   "outputs": [],
   "source": [
    "# https://habrahabr.ru/post/318120/"
   ]
  },
  {
   "cell_type": "code",
   "execution_count": 11,
   "metadata": {
    "collapsed": false
   },
   "outputs": [
    {
     "name": "stdout",
     "output_type": "stream",
     "text": [
      "Герольд Уваров\n",
      "Антоний Новиков\n",
      "Ананий Тимофеев\n",
      "Радий Бобылёв\n",
      "Фёдор Кузнецов\n",
      "Анис Воронов\n",
      "Горазд Игнатов\n",
      "Гаспар Шилов\n",
      "Прохор Павлов\n"
     ]
    }
   ],
   "source": [
    "from elizabeth import Personal\n",
    "\n",
    "user = Personal('ru')\n",
    "\n",
    "for _ in range(0, 9):\n",
    "    print(user.full_name(gender='male'))\n"
   ]
  },
  {
   "cell_type": "code",
   "execution_count": 10,
   "metadata": {
    "collapsed": false
   },
   "outputs": [
    {
     "name": "stdout",
     "output_type": "stream",
     "text": [
      "{'number': '4329 4169 2418 7359', 'exp_date': '03/16', 'owner': 'Хильда Тетерина'}\n",
      "{'number': '4393 3843 2139 9276', 'exp_date': '01/20', 'owner': 'Анжелика Калашникова'}\n",
      "{'number': '4476 9560 9689 3116', 'exp_date': '05/19', 'owner': 'Веста Романова'}\n",
      "{'number': '4476 2752 8411 3583', 'exp_date': '01/20', 'owner': 'Снежана Афанасьева'}\n",
      "{'number': '4704 6710 5483 2899', 'exp_date': '01/16', 'owner': 'Алёна Тихонова'}\n",
      "{'number': '4340 9413 9540 5282', 'exp_date': '07/21', 'owner': 'Евгения Казакова'}\n",
      "{'number': '4212 9021 5786 3191', 'exp_date': '07/17', 'owner': 'Устина Сидорова'}\n",
      "{'number': '4285 8154 6176 3103', 'exp_date': '05/21', 'owner': 'Мирра Александрова'}\n",
      "{'number': '4770 2953 7732 2636', 'exp_date': '11/18', 'owner': 'Юна Кулакова'}\n",
      "{'number': '4725 3006 7760 2402', 'exp_date': '05/16', 'owner': 'Марина Жукова'}\n"
     ]
    }
   ],
   "source": [
    "from elizabeth import Personal\n",
    "from random import choice\n",
    "\n",
    "user = Personal('ru')\n",
    "\n",
    "def get_card(sex='female'):\n",
    "    owner = {\n",
    "        'owner': user.full_name(sex),\n",
    "        'exp_date': user.credit_card_expiration_date(maximum=21),\n",
    "        'number': user.credit_card_number(card_type='visa')\n",
    "    }\n",
    "    return owner\n",
    "\n",
    "for _ in range(0, 10):\n",
    "    print(get_card())"
   ]
  },
  {
   "cell_type": "code",
   "execution_count": 16,
   "metadata": {
    "collapsed": false,
    "scrolled": true
   },
   "outputs": [
    {
     "name": "stdout",
     "output_type": "stream",
     "text": [
      "Аллея Новодачная 163\n",
      "Аллея Трубная 500\n",
      "Аллея Халтуринская 606\n",
      "ул. Весенняя 1006\n",
      "ул. Никитинская 1332\n",
      "ул. Керченская 1381\n",
      "Аллея Железногорская 5-я 1048\n",
      "Аллея Дворцовая Правая 677\n",
      "Аллея Проточная 1067\n"
     ]
    }
   ],
   "source": [
    "from elizabeth import Address\n",
    "\n",
    "address = Address('ru')\n",
    "for _ in range(0, 9):\n",
    "    print(address.address())\n"
   ]
  },
  {
   "cell_type": "code",
   "execution_count": 19,
   "metadata": {
    "collapsed": false
   },
   "outputs": [
    {
     "name": "stdout",
     "output_type": "stream",
     "text": [
      "<class 'list'>\n",
      "['apple', 'banana']\n",
      "['apple', 'banana', 'apricot']\n"
     ]
    }
   ],
   "source": [
    "import types\n",
    "\n",
    "\n",
    "# dir(__builtin__)\n",
    "ns = types.SimpleNamespace(fruits=['apple', 'banana'])\n",
    "print(type(ns.fruits))\n",
    "print(ns.fruits)\n",
    "ns.fruits.append('apricot')\n",
    "print(ns.fruits)"
   ]
  },
  {
   "cell_type": "code",
   "execution_count": 26,
   "metadata": {
    "collapsed": false
   },
   "outputs": [
    {
     "data": {
      "text/plain": [
       "{'y': 2}"
      ]
     },
     "execution_count": 26,
     "metadata": {},
     "output_type": "execute_result"
    }
   ],
   "source": [
    "import typing\n",
    "\n",
    "def filter_by_key(d: typing.Mapping, s: str) -> dict:\n",
    "    return {k: d[k] for k in d if k == s}\n",
    "\n",
    "d = filter_by_key({'x': 1, 'y': 2}, 'y')\n",
    "d"
   ]
  },
  {
   "cell_type": "code",
   "execution_count": 2,
   "metadata": {
    "collapsed": false
   },
   "outputs": [
    {
     "name": "stdout",
     "output_type": "stream",
     "text": [
      "1\n"
     ]
    }
   ],
   "source": [
    "import time\n",
    "\n",
    "timestamp = int(time.time())\n",
    "\n",
    "if timestamp > 1488326399:\n",
    "    pants = 2\n",
    "else:\n",
    "    pants = 1\n",
    "    \n",
    "print(pants)"
   ]
  }
 ],
 "metadata": {
  "kernelspec": {
   "display_name": "Python 3",
   "language": "python",
   "name": "python3"
  },
  "language_info": {
   "codemirror_mode": {
    "name": "ipython",
    "version": 3
   },
   "file_extension": ".py",
   "mimetype": "text/x-python",
   "name": "python",
   "nbconvert_exporter": "python",
   "pygments_lexer": "ipython3",
   "version": "3.5.2"
  }
 },
 "nbformat": 4,
 "nbformat_minor": 1
}
