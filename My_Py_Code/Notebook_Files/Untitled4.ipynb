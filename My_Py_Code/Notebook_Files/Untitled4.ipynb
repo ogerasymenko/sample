{
 "cells": [
  {
   "cell_type": "code",
   "execution_count": 12,
   "metadata": {
    "collapsed": false
   },
   "outputs": [
    {
     "name": "stdout",
     "output_type": "stream",
     "text": [
      "<Response [200]>\n",
      "{'Server': 'nginx/1.10.0 (Ubuntu)', 'Date': 'Tue, 01 Nov 2016 08:26:35 GMT', 'ETag': 'W/\"5811b4b1-69cf\"', 'Strict-Transport-Security': 'max-age=26278000', 'Content-Encoding': 'gzip', 'Connection': 'keep-alive', 'Content-Type': 'text/html', 'Vary': 'Accept-Encoding', 'Last-Modified': 'Thu, 27 Oct 2016 08:02:57 GMT', 'Transfer-Encoding': 'chunked'}\n"
     ]
    }
   ],
   "source": [
    "import json\n",
    "import requests\n",
    "\n",
    "response = requests.get('https://jupyter.pp.ua')\n",
    "print(response)\n",
    "print(response.headers)\n"
   ]
  }
 ],
 "metadata": {
  "kernelspec": {
   "display_name": "Python 3",
   "language": "python",
   "name": "python3"
  },
  "language_info": {
   "codemirror_mode": {
    "name": "ipython",
    "version": 3
   },
   "file_extension": ".py",
   "mimetype": "text/x-python",
   "name": "python",
   "nbconvert_exporter": "python",
   "pygments_lexer": "ipython3",
   "version": "3.5.2"
  }
 },
 "nbformat": 4,
 "nbformat_minor": 1
}
