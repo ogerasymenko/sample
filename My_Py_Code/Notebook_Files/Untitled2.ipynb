{
 "cells": [
  {
   "cell_type": "code",
   "execution_count": 2,
   "metadata": {
    "collapsed": false
   },
   "outputs": [
    {
     "name": "stdout",
     "output_type": "stream",
     "text": [
      "Date: 2016-09-26\n",
      "Time: 11:01:24.659199+03:00\n"
     ]
    }
   ],
   "source": [
    "import pendulum\n",
    "\n",
    "now_in_kiev = pendulum.now('Europe/Tallinn')\n",
    "time = (str(now_in_kiev).split('T'))\n",
    "print('Date: {}\\nTime: {}'.format(time[0], time[1]))"
   ]
  }
 ],
 "metadata": {
  "kernelspec": {
   "display_name": "Python 3",
   "language": "python",
   "name": "python3"
  },
  "language_info": {
   "codemirror_mode": {
    "name": "ipython",
    "version": 3
   },
   "file_extension": ".py",
   "mimetype": "text/x-python",
   "name": "python",
   "nbconvert_exporter": "python",
   "pygments_lexer": "ipython3",
   "version": "3.5.2"
  }
 },
 "nbformat": 4,
 "nbformat_minor": 1
}
