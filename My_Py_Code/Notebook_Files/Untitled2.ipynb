{
 "cells": [
  {
   "cell_type": "code",
   "execution_count": 2,
   "metadata": {
    "collapsed": false
   },
   "outputs": [
    {
     "name": "stdout",
     "output_type": "stream",
     "text": [
      "Date: 2016-10-02\n",
      "Time: 19:21:57.373353+03:00\n"
     ]
    }
   ],
   "source": [
    "import pendulum\n",
    "\n",
    "now_in_kiev = pendulum.now('Europe/Tallinn')\n",
    "time = (str(now_in_kiev).split('T'))\n",
    "print('Date: {}\\nTime: {}'.format(time[0], time[1]))"
   ]
  },
  {
   "cell_type": "code",
   "execution_count": 2,
   "metadata": {
    "collapsed": false,
    "scrolled": true
   },
   "outputs": [
    {
     "name": "stdout",
     "output_type": "stream",
     "text": [
      "8\n"
     ]
    }
   ],
   "source": [
    "months = [\"Jan\", \"Feb\", \"Mar\", \"Apr\", \"May\", \"Jun\", \"Jul\", \"Aug\", \"Sep\", \"Oct\", \"Nov\"]\n",
    "index = len(months) - 3\n",
    "third_last = months[index]\n",
    "print(index)"
   ]
  },
  {
   "cell_type": "code",
   "execution_count": 1,
   "metadata": {
    "collapsed": false
   },
   "outputs": [
    {
     "name": "stdout",
     "output_type": "stream",
     "text": [
      "{'grape': 2, 'potato': 1, 'tomato': 1, 'orange': 2, 'apple': 3}\n"
     ]
    }
   ],
   "source": [
    "pantry = [\"apple\", \"orange\", \"grape\", \"apple\", \"orange\", \"apple\", \"tomato\", \"potato\", \"grape\"]\n",
    "pantry_counts = {}\n",
    "for i in pantry:\n",
    "    if i in pantry_counts:\n",
    "        pantry_counts[i] += 1\n",
    "    else:\n",
    "        pantry_counts[i] = 1\n",
    "print(pantry_counts)"
   ]
  },
  {
   "cell_type": "code",
   "execution_count": 11,
   "metadata": {
    "collapsed": false
   },
   "outputs": [
    {
     "name": "stdout",
     "output_type": "stream",
     "text": [
      "there was once a great and noble frmer named julius he was the best farmer in his village and prabably even the whole world one day he decidid to grw potatoes julius knew that potatoes were hard to grow so he kniw he hd to goe to the magic farmer in the sky to seek his guidance julius set out on his journey aroudn noon one day it started raining almosty immediately julius wondered if this was a sign that he shouldnt go on but he perserved he became soaked and stoped in the store to buy an umbrella he told the storekeeper reggie about his journey reggie told him that he was crzy to seek out the magic farmer the last 10 people to try to find him had never come back julius was undetered and decided to keep going he travelled many long days in alternatng searing heat and freezing cold at night he curled into a ball and tried to sleep underneath trees along the roadside after mich anguish julius found the magic farmer who gave him the secret of growing potatoes julius came back to the village and managed to grow the finest crop the village had ever seen everyone had potatoes to eat for months and sang juliuss praises\n"
     ]
    }
   ],
   "source": [
    "text = '''There was once a great and noble frmer named Julius. He was the best farmer in his village, and prabably even the whole world. One day, he decidid to grw potatoes. Julius knew that potatoes were hard to grow, so he kniw he hd to goe to the magic farmer in the sky to seek his guidance. Julius set out on his journey aroudn noon one day. It started raining almosty immediately. Julius wondered if this was a sign that he shouldn't go on, but he perserved. He became soaked, and stoped in the store to buy an umbrella. He told the storekeeper, Reggie, about his journey. Reggie told him that he was crzy to seek out the magic farmer; the last 10 people to try to find him had never come back. Julius was undetered and decided to keep going. He travelled many long days in alternatng searing heat and freezing cold. At night, he curled into a ball and tried to sleep underneath trees along the roadside. After mich anguish, Julius found the magic farmer, who gave him the secret of growing potatoes. Julius came back to the village, and managed to grow the finest crop the village had ever seen. Everyone had potatoes to eat for months, and sang Julius's praises.'''\n",
    "\n",
    "def clean_text(text_string):\n",
    "    cleaned_string = text_string.replace(\",\",\"\")\n",
    "    cleaned_string = cleaned_string.replace(\".\",\"\")\n",
    "    cleaned_string = cleaned_string.replace(\"'\", \"\")\n",
    "    cleaned_string = cleaned_string.replace(\";\", \"\")\n",
    "    cleaned_string = cleaned_string.replace(\"\\n\", \"\")\n",
    "    cleaned_string = cleaned_string.lower()\n",
    "    return(cleaned_string)\n",
    "cleaned_story = clean_text(text)\n",
    "print(cleaned_story)"
   ]
  },
  {
   "cell_type": "code",
   "execution_count": 13,
   "metadata": {
    "collapsed": false
   },
   "outputs": [
    {
     "name": "stdout",
     "output_type": "stream",
     "text": [
      "there was once a great and noble frmer named julius he was the best farmer in his village and prabably even the whole world one day he decidid to grw potatoes julius knew that potatoes were hard to grow so he kniw he hd to goe to the magic farmer in the sky to seek his guidance julius set out on his journey aroudn noon one day it started raining almosty immediately julius wondered if this was a sign that he shouldnt go on but he perserved he became soaked and stoped in the store to buy an umbrella he told the storekeeper reggie about his journey reggie told him that he was crzy to seek out the magic farmer the last 10 people to try to find him had never come back julius was undetered and decided to keep going he travelled many long days in alternatng searing heat and freezing cold at night he curled into a ball and tried to sleep underneath trees along the roadside after mich anguish julius found the magic farmer who gave him the secret of growing potatoes julius came back to the village and managed to grow the finest crop the village had ever seen everyone had potatoes to eat for months and sang juliuss praises\n"
     ]
    }
   ],
   "source": [
    "text = '''There was once a great and noble frmer named Julius. He was the best farmer in his village, and prabably even the whole world. One day, he decidid to grw potatoes. Julius knew that potatoes were hard to grow, so he kniw he hd to goe to the magic farmer in the sky to seek his guidance. Julius set out on his journey aroudn noon one day. It started raining almosty immediately. Julius wondered if this was a sign that he shouldn't go on, but he perserved. He became soaked, and stoped in the store to buy an umbrella. He told the storekeeper, Reggie, about his journey. Reggie told him that he was crzy to seek out the magic farmer; the last 10 people to try to find him had never come back. Julius was undetered and decided to keep going. He travelled many long days in alternatng searing heat and freezing cold. At night, he curled into a ball and tried to sleep underneath trees along the roadside. After mich anguish, Julius found the magic farmer, who gave him the secret of growing potatoes. Julius came back to the village, and managed to grow the finest crop the village had ever seen. Everyone had potatoes to eat for months, and sang Julius's praises.'''\n",
    "clean_chars = [\",\", \".\", \"'\", \";\", \"\\n\"]\n",
    "cleaned_story = \"\"\n",
    "\n",
    "def clean_text(text_string, special_characters):\n",
    "    cleaned_string = text_string\n",
    "    for string in special_characters:\n",
    "        cleaned_string = cleaned_string.replace(string, \"\")\n",
    "    cleaned_string = cleaned_string.lower()\n",
    "    return(cleaned_string)\n",
    "\n",
    "cleaned_story = clean_text(text, clean_chars)\n",
    "print(cleaned_story)"
   ]
  },
  {
   "cell_type": "code",
   "execution_count": 14,
   "metadata": {
    "collapsed": false
   },
   "outputs": [
    {
     "name": "stdout",
     "output_type": "stream",
     "text": [
      "['there', 'was', 'once', 'a', 'great', 'and', 'noble', 'frmer', 'named', 'julius', 'he', 'was', 'the', 'best', 'farmer', 'in', 'his', 'village', 'and', 'prabably', 'even', 'the', 'whole', 'world', 'one', 'day', 'he', 'decidid', 'to', 'grw', 'potatoes', 'julius', 'knew', 'that', 'potatoes', 'were', 'hard', 'to', 'grow', 'so', 'he', 'kniw', 'he', 'hd', 'to', 'goe', 'to', 'the', 'magic', 'farmer', 'in', 'the', 'sky', 'to', 'seek', 'his', 'guidance', 'julius', 'set', 'out', 'on', 'his', 'journey', 'aroudn', 'noon', 'one', 'day', 'it', 'started', 'raining', 'almosty', 'immediately', 'julius', 'wondered', 'if', 'this', 'was', 'a', 'sign', 'that', 'he', 'shouldnt', 'go', 'on', 'but', 'he', 'perserved', 'he', 'became', 'soaked', 'and', 'stoped', 'in', 'the', 'store', 'to', 'buy', 'an', 'umbrella', 'he', 'told', 'the', 'storekeeper', 'reggie', 'about', 'his', 'journey', 'reggie', 'told', 'him', 'that', 'he', 'was', 'crzy', 'to', 'seek', 'out', 'the', 'magic', 'farmer', 'the', 'last', '10', 'people', 'to', 'try', 'to', 'find', 'him', 'had', 'never', 'come', 'back', 'julius', 'was', 'undetered', 'and', 'decided', 'to', 'keep', 'going', 'he', 'travelled', 'many', 'long', 'days', 'in', 'alternatng', 'searing', 'heat', 'and', 'freezing', 'cold', 'at', 'night', 'he', 'curled', 'into', 'a', 'ball', 'and', 'tried', 'to', 'sleep', 'underneath', 'trees', 'along', 'the', 'roadside', 'after', 'mich', 'anguish', 'julius', 'found', 'the', 'magic', 'farmer', 'who', 'gave', 'him', 'the', 'secret', 'of', 'growing', 'potatoes', 'julius', 'came', 'back', 'to', 'the', 'village', 'and', 'managed', 'to', 'grow', 'the', 'finest', 'crop', 'the', 'village', 'had', 'ever', 'seen', 'everyone', 'had', 'potatoes', 'to', 'eat', 'for', 'months', 'and', 'sang', 'juliuss', 'praises']\n"
     ]
    }
   ],
   "source": [
    "def clean_text(text_string, special_characters):\n",
    "    cleaned_string = text_string\n",
    "    for string in special_characters:\n",
    "        cleaned_string = cleaned_string.replace(string, \"\")\n",
    "    cleaned_string = cleaned_string.lower()\n",
    "    return(cleaned_string)\n",
    "\n",
    "\n",
    "def tokenize(text_string, special_characters):\n",
    "    cleaned_story = clean_text(story_string, clean_chars)\n",
    "    story_tokens = cleaned_story.split(' ')\n",
    "    return story_tokens\n",
    "\n",
    "\n",
    "story_string = '''There was once a great and noble frmer named Julius. He was the best farmer in his village, and prabably even the whole world. One day, he decidid to grw potatoes. Julius knew that potatoes were hard to grow, so he kniw he hd to goe to the magic farmer in the sky to seek his guidance. Julius set out on his journey aroudn noon one day. It started raining almosty immediately. Julius wondered if this was a sign that he shouldn't go on, but he perserved. He became soaked, and stoped in the store to buy an umbrella. He told the storekeeper, Reggie, about his journey. Reggie told him that he was crzy to seek out the magic farmer; the last 10 people to try to find him had never come back. Julius was undetered and decided to keep going. He travelled many long days in alternatng searing heat and freezing cold. At night, he curled into a ball and tried to sleep underneath trees along the roadside. After mich anguish, Julius found the magic farmer, who gave him the secret of growing potatoes. Julius came back to the village, and managed to grow the finest crop the village had ever seen. Everyone had potatoes to eat for months, and sang Julius's praises.'''\n",
    "clean_chars = [\",\", \".\", \"'\", \";\", \"\\n\"]\n",
    "\n",
    "print(tokenize(story_string, clean_chars))"
   ]
  },
  {
   "cell_type": "code",
   "execution_count": 20,
   "metadata": {
    "collapsed": false
   },
   "outputs": [
    {
     "name": "stdout",
     "output_type": "stream",
     "text": [
      "frmer prabably decidid grw kniw hd goe aroudn almosty perserved stoped crzy 10 undetered alternatng mich "
     ]
    }
   ],
   "source": [
    "vocabulary = '''a about after almost along alternating an and anguish around at back ball became best but buy came cold come crop crazy curled day days decided decided eat even ever everyone farmer farmer find finest for found freezing farmer gave go going great grow growing guidance had hard he heat him his if immediately in into it journey julius juliuss keep knew last long magic managed many much months named never night noble noon of on once one out people persevered potatoes probably praises raining reggie roadside sang searing secret seek seen set shouldnt sign sky sleep so soaked started stopped store storekeeper that the there this to told travelled trees tried try umbrella underneath undeterred village was were who whole wondered world'''\n",
    "story_string = '''There was once a great and noble frmer named Julius. He was the best farmer in his village, and prabably even the whole world. One day, he decidid to grw potatoes. Julius knew that potatoes were hard to grow, so he kniw he hd to goe to the magic farmer in the sky to seek his guidance. Julius set out on his journey aroudn noon one day. It started raining almosty immediately. Julius wondered if this was a sign that he shouldn't go on, but he perserved. He became soaked, and stoped in the store to buy an umbrella. He told the storekeeper, Reggie, about his journey. Reggie told him that he was crzy to seek out the magic farmer; the last 10 people to try to find him had never come back. Julius was undetered and decided to keep going. He travelled many long days in alternatng searing heat and freezing cold. At night, he curled into a ball and tried to sleep underneath trees along the roadside. After mich anguish, Julius found the magic farmer, who gave him the secret of growing potatoes. Julius came back to the village, and managed to grow the finest crop the village had ever seen. Everyone had potatoes to eat for months, and sang Julius's praises.'''\n",
    "clean_chars = [\",\", \".\", \"'\", \";\", \"\\n\"]\n",
    "\n",
    "def clean_text(text_string, special_characters):\n",
    "    cleaned_string = text_string\n",
    "    for string in special_characters:\n",
    "        cleaned_string = cleaned_string.replace(string, \"\")\n",
    "    cleaned_string = cleaned_string.lower()\n",
    "    return(cleaned_string)\n",
    "\n",
    "def tokenize(text_string, special_characters):\n",
    "    cleaned_story = clean_text(text_string, special_characters)\n",
    "    story_tokens = cleaned_story.split(\" \")\n",
    "    return(story_tokens)\n",
    "\n",
    "misspelled_words = []\n",
    "clean_chars = [\",\", \".\", \"'\", \";\", \"\\n\"]\n",
    "tokenized_story = tokenize(story_string, clean_chars)\n",
    "tokenized_vocabulary = tokenize(vocabulary, clean_chars)\n",
    "\n",
    "for token in tokenized_story:\n",
    "    if token not in tokenized_vocabulary:\n",
    "        misspelled_words.append(token)\n",
    "\n",
    "for word in misspelled_words:\n",
    "    print(word, end=' ')"
   ]
  },
  {
   "cell_type": "code",
   "execution_count": null,
   "metadata": {
    "collapsed": true
   },
   "outputs": [],
   "source": []
  }
 ],
 "metadata": {
  "kernelspec": {
   "display_name": "Python 3",
   "language": "python",
   "name": "python3"
  },
  "language_info": {
   "codemirror_mode": {
    "name": "ipython",
    "version": 3
   },
   "file_extension": ".py",
   "mimetype": "text/x-python",
   "name": "python",
   "nbconvert_exporter": "python",
   "pygments_lexer": "ipython3",
   "version": "3.5.2"
  }
 },
 "nbformat": 4,
 "nbformat_minor": 1
}
