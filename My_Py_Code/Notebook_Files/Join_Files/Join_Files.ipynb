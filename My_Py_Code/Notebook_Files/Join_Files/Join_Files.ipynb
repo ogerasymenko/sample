{
 "cells": [
  {
   "cell_type": "code",
   "execution_count": 73,
   "metadata": {
    "collapsed": false
   },
   "outputs": [
    {
     "name": "stdout",
     "output_type": "stream",
     "text": [
      "Processing file: File1_001.txt\n",
      "Processing file: File1_002.txt\n",
      "Processing file: File1_003.txt\n",
      "Processing file: File2_001.txt\n",
      "Processing file: File2_002.txt\n",
      "\n",
      "Result file: Res_File1.txt\n",
      "Result file: Res_File2.txt\n"
     ]
    }
   ],
   "source": [
    "import io\n",
    "import os\n",
    "import sys\n",
    "\n",
    "'''\n",
    "Script for joining several text files into one.\n",
    "'''\n",
    "\n",
    "\n",
    "def my_func(filename,file_ext):\n",
    "    '''function accept filename and its extention,\n",
    "    open first file for reding, second to write first content.\n",
    "    '''\n",
    "    print('Processing file:', filename+file_ext)\n",
    "    # here is second file\n",
    "    fOut = open(sFileOut+name+'.txt', \"ab\")\n",
    "    # here is first file\n",
    "    # the \"file\" var avialable inside for loop\n",
    "    f = open(sPathIn + \"/\" + file, \"rb\")\n",
    "    data = f.read()\n",
    "    fOut.write(data)\n",
    "    f.close()\n",
    "    fOut.close()\n",
    "                                       \n",
    "# point path with files\n",
    "sPathIn = \".\"\n",
    "sFileOut = \"Res_\"\n",
    "# obtain list of files \n",
    "dirs = os.listdir(sPathIn)\n",
    "\n",
    "# it will be used for filenames comparison \n",
    "name = ''\n",
    "# it will be used for final result filenames printing\n",
    "arr = []\n",
    "\n",
    "for file in sorted(dirs):\n",
    "    filename, file_ext = os.path.splitext(file)\n",
    "    # skip existing result files\n",
    "    if filename.startswith('Res'):\n",
    "        continue\n",
    "    else:\n",
    "        if file_ext == \".txt\":\n",
    "            # check filename\n",
    "            name = filename[0:5]\n",
    "            # add it into arr list\n",
    "            arr.append(name)\n",
    "            if name == filename[0:5]:\n",
    "                my_func(filename, file_ext)\n",
    "            else:\n",
    "                my_func(filename, file_ext)\n",
    "\n",
    "# print unique result filenames\n",
    "print()\n",
    "for i in sorted(list(set(arr))):\n",
    "    print(\"Result file:\", sFileOut+i+'.txt')\n"
   ]
  }
 ],
 "metadata": {
  "kernelspec": {
   "display_name": "Python 3",
   "language": "python",
   "name": "python3"
  },
  "language_info": {
   "codemirror_mode": {
    "name": "ipython",
    "version": 3
   },
   "file_extension": ".py",
   "mimetype": "text/x-python",
   "name": "python",
   "nbconvert_exporter": "python",
   "pygments_lexer": "ipython3",
   "version": "3.5.2"
  }
 },
 "nbformat": 4,
 "nbformat_minor": 1
}
