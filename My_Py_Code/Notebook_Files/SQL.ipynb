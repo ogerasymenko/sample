{
 "cells": [
  {
   "cell_type": "code",
   "execution_count": 7,
   "metadata": {
    "collapsed": false
   },
   "outputs": [
    {
     "name": "stdout",
     "output_type": "stream",
     "text": [
      "Master Log file: master.000002 \n",
      "Position:\t 474\n",
      "\n",
      "CHANGE MASTER TO MASTER_HOST='10.10.0.1', MASTER_USER='slave_user', MASTER_PASSWORD='password',\n",
      "MASTER_LOG_FILE = 'master.000002' MASTER_LOG_POS = 474;\n"
     ]
    }
   ],
   "source": [
    "'''SHOW MASTER STATUS'''\n",
    "\n",
    "import MySQLdb\n",
    "\n",
    "db = MySQLdb.connect(unix_socket=\"/var/run/mysqld/mysqld.sock\",read_default_file=\"~/.my.cnf\")\n",
    "                     \n",
    "cur = db.cursor()\n",
    "\n",
    "cur.execute(\"\"\"SHOW MASTER STATUS\"\"\")\n",
    "res = cur.fetchall()\n",
    "\n",
    "cur.close()\n",
    "db.close()\n",
    "\n",
    "for i in res:\n",
    "    print(\"Master Log file:\", i[0], \"\\nPosition:\\t\", i[1])\n",
    "print()\n",
    "\n",
    "log_file = ''\n",
    "position = ''\n",
    "\n",
    "for i in res:\n",
    "    log_file, position = \"'\"+i[0]+\"'\", str(i[1])+\";\"\n",
    "\n",
    "sql = \"\"\"CHANGE MASTER TO MASTER_HOST='10.10.0.1', MASTER_USER='slave_user', MASTER_PASSWORD='password',\n",
    "MASTER_LOG_FILE = \"\"\" + log_file + \"\"\" MASTER_LOG_POS = \"\"\" + position\n",
    "\n",
    "print(sql)"
   ]
  },
  {
   "cell_type": "code",
   "execution_count": null,
   "metadata": {
    "collapsed": false
   },
   "outputs": [],
   "source": [
    "\"\"\"Insert data into DB\"\"\"\n",
    "\n",
    "import MySQLdb\n",
    "\n",
    "db = MySQLdb.connect(unix_socket=\"/var/run/mysqld/mysqld.sock\",db=\"sisdb\",read_default_file=\"~/.my.cnf\")\n",
    "# make commit after each query\n",
    "db.autocommit(True)\n",
    "# crete cursor object\n",
    "cur = db.cursor()\n",
    "\n",
    "# data is dict or tuple. example with dict:\n",
    "data_to_insert = {'id':6, 'name':'New', 'age':2017}\n",
    "# insert data into query. if use tuple - use (%s, %s, %s)\n",
    "sql_query = \"INSERT INTO `students` VALUES (%(id)s, %(name)s, %(age)s)\"\n",
    "# execute accept and run tuple\n",
    "cur.execute(sql_query, data_to_insert)\n",
    "\n",
    "# res = cur.fetchall()\n",
    "# close cursor and connection\n",
    "cur.close()\n",
    "db.close()\n"
   ]
  },
  {
   "cell_type": "code",
   "execution_count": null,
   "metadata": {
    "collapsed": false
   },
   "outputs": [],
   "source": [
    "\"\"\"Insert data into DB, variant 2\"\"\"\n",
    "\n",
    "import MySQLdb\n",
    "\n",
    "db = MySQLdb.connect(unix_socket=\"/var/run/mysqld/mysqld.sock\",db=\"sisdb\",read_default_file=\"~/.my.cnf\")\n",
    "# make commit after each query\n",
    "db.autocommit(True)\n",
    "# crete cursor object\n",
    "cur = db.cursor()\n",
    "\n",
    "# data is dict or tuple. example with tuple:\n",
    "sql_query = \"INSERT INTO `students` VALUES (7, 'Morning', 2020)\"\n",
    "\n",
    "# execute accept and run tuple\n",
    "cur.execute(sql_query)\n",
    "\n",
    "# res = cur.fetchall()\n",
    "# close cursor and connection\n",
    "cur.close()\n",
    "db.close()\n"
   ]
  },
  {
   "cell_type": "code",
   "execution_count": 11,
   "metadata": {
    "collapsed": false
   },
   "outputs": [
    {
     "name": "stdout",
     "output_type": "stream",
     "text": [
      "1 Aaaa 25\n",
      "2 Bbbb 20\n",
      "3 Cccc 14\n",
      "4 Dddd 50\n",
      "5 Year 2016\n",
      "6 New 2017\n",
      "7 Morning 2020\n",
      "8 ttt 11\n",
      "9 ggg 222\n",
      "10 uuuu 333\n",
      "11 Ya 99\n",
      "12 Name 29\n"
     ]
    }
   ],
   "source": [
    "\"\"\"SELECT FROM DB\"\"\"\n",
    "\n",
    "import _mysql\n",
    "\n",
    "db = _mysql.connect(unix_socket=\"/var/run/mysqld/mysqld.sock\",db=\"sisdb\",read_default_file=\"~/.my.cnf\")\n",
    "\n",
    "db.query(\"\"\"SELECT * FROM students ORDER BY id ASC\"\"\")\n",
    "\n",
    "res = db.use_result()\n",
    "final_res = res.fetch_row(maxrows=25)\n",
    "\n",
    "db.close()\n",
    "\n",
    "for i in final_res:\n",
    "    print(i[0], str(i[1], 'utf-8'), i[2])"
   ]
  }
 ],
 "metadata": {
  "kernelspec": {
   "display_name": "Python 3",
   "language": "python",
   "name": "python3"
  },
  "language_info": {
   "codemirror_mode": {
    "name": "ipython",
    "version": 3
   },
   "file_extension": ".py",
   "mimetype": "text/x-python",
   "name": "python",
   "nbconvert_exporter": "python",
   "pygments_lexer": "ipython3",
   "version": "3.5.2"
  }
 },
 "nbformat": 4,
 "nbformat_minor": 1
}
