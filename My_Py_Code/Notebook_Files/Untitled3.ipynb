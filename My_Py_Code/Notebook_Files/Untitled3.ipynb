{
 "cells": [
  {
   "cell_type": "code",
   "execution_count": 21,
   "metadata": {
    "collapsed": false
   },
   "outputs": [
    {
     "name": "stdout",
     "output_type": "stream",
     "text": [
      "{'Content-Length': '519', 'Content-Type': 'application/json', 'Connection': 'keep-alive', 'Date': 'Wed, 05 Oct 2016 08:52:01 GMT', 'Server': 'gunicorn/19.6.0', 'Via': '1.1 vegur'}\n",
      "\n",
      "application/json\n"
     ]
    }
   ],
   "source": [
    "import requests\n",
    "\n",
    "# Set up the parameters we want to pass to the API.\n",
    "# This is the latitude and longitude of New York City.\n",
    "parameters = {\"lat\": 37.78, \"lon\": -122.41}\n",
    "\n",
    "# Make a get request with the parameters.\n",
    "# response = requests.get(\"http://api.open-notify.org/iss-pass.json\", params=parameters)\n",
    "\n",
    "# Print the content of the response (the data the server returned)\n",
    "# print(response.content)\n",
    "\n",
    "response = requests.get(\"http://api.open-notify.org/iss-pass.json?lat=40.71&lon=-74\")\n",
    "content = response.headers\n",
    "\n",
    "print(content)\n",
    "print()\n",
    "\n",
    "content_type = (response.headers['content-type'])\n",
    "print(content_type)"
   ]
  },
  {
   "cell_type": "markdown",
   "metadata": {},
   "source": [
    "JSON Format\n",
    "\n",
    "You may have noticed that the content of the response earlier was a string. Strings are the way that we pass information back and forth to APIs, but it's hard to get the information we want out of them. How do we know how to decode the string that we get back and work with it in python?\n",
    "\n",
    "Luckily, there's a format called JavaScript Object Notation (JSON). JSON is a way to encode data structures like lists and dictionaries to strings that ensures that they are easily readable by machines. JSON is the primary format in which data is passed back and forth to APIs.\n",
    "\n",
    "Python has great JSON support, with the json library. We can both convert lists and dictionaries to JSON, and convert strings to lists and dictionaries. In the case of our ISS Pass data, it is a dictionary encoded as a string in JSON format.\n",
    "\n",
    "The json library has two main methods:\n",
    "\n",
    "    dumps -- Takes in a Python object, and converts it to a string.\n",
    "    loads -- Takes a json string, and converts it to a Python object.\n"
   ]
  },
  {
   "cell_type": "code",
   "execution_count": 9,
   "metadata": {
    "collapsed": false,
    "scrolled": true
   },
   "outputs": [
    {
     "name": "stdout",
     "output_type": "stream",
     "text": [
      "<class 'list'>\n",
      "<class 'str'>\n",
      "<class 'list'>\n",
      "<class 'str'>\n",
      "\"Starbucks\"\n"
     ]
    }
   ],
   "source": [
    "# Make a list of fast food chains.\n",
    "best_food_chains = [\"Taco Bell\", \"Shake Shack\", \"Chipotle\"]\n",
    "print(type(best_food_chains))\n",
    "\n",
    "# Import the json library\n",
    "import json\n",
    "\n",
    "# Use json.dumps to convert best_food_chains to a string.\n",
    "best_food_chains_string = json.dumps(best_food_chains)\n",
    "print(type(best_food_chains_string))\n",
    "\n",
    "# Convert best_food_chains_string back into a list\n",
    "print(type(json.loads(best_food_chains_string)))\n",
    "\n",
    "# Make a dictionary\n",
    "fast_food_franchise = {\n",
    "    \"Subway\": 24722,\n",
    "    \"McDonalds\": 14098,\n",
    "    \"Starbucks\": 10821,\n",
    "    \"Pizza Hut\": 7600\n",
    "}\n",
    "\n",
    "# We can also dump a dictionary to a string and load it.\n",
    "fast_food_franchise_string = json.dumps(fast_food_franchise)\n",
    "print(type(fast_food_franchise_string))\n",
    "print(fast_food_franchise_string[1:12])"
   ]
  },
  {
   "cell_type": "code",
   "execution_count": 44,
   "metadata": {
    "collapsed": false
   },
   "outputs": [
    {
     "name": "stdout",
     "output_type": "stream",
     "text": [
      "Number of astros: 3\n",
      "Name of astro: Anatoly Ivanishin\n",
      "Name of astro: Takuya Onishi\n",
      "Name of astro: Kate Rubins\n"
     ]
    }
   ],
   "source": [
    "# OpenNotify has one more API endpoint, astros.json. It tells you how many people are currently in space. \n",
    "\n",
    "import json\n",
    "\n",
    "request = requests.get(\"http://api.open-notify.org/astros.json\")\n",
    "astros = request.json()\n",
    "# print(astros)\n",
    "# print()\n",
    "\n",
    "print('Number of astros:', astros['number'])\n",
    "for name in astros['people']:\n",
    "    print('Name of astro:', name['name'])\n"
   ]
  },
  {
   "cell_type": "code",
   "execution_count": 20,
   "metadata": {
    "collapsed": false
   },
   "outputs": [
    {
     "name": "stdout",
     "output_type": "stream",
     "text": [
      "<class 'dict'>\n",
      "\n",
      "{'message': 'success', 'request': {'latitude': 37.78, 'longitude': -122.41, 'passes': 5, 'altitude': 100, 'datetime': 1475657216}, 'response': [{'risetime': 1475661163, 'duration': 312}, {'risetime': 1475709451, 'duration': 529}, {'risetime': 1475715166, 'duration': 635}, {'risetime': 1475721035, 'duration': 541}, {'risetime': 1475726936, 'duration': 468}]}\n",
      "\n",
      "message: success\n",
      "request: {'latitude': 37.78, 'longitude': -122.41, 'passes': 5, 'altitude': 100, 'datetime': 1475657216}\n",
      "response: [{'risetime': 1475661163, 'duration': 312}, {'risetime': 1475709451, 'duration': 529}, {'risetime': 1475715166, 'duration': 635}, {'risetime': 1475721035, 'duration': 541}, {'risetime': 1475726936, 'duration': 468}]\n",
      "\n",
      "duration key of the first dictionary in the response list = 312\n"
     ]
    }
   ],
   "source": [
    "# Getting JSON from a request\n",
    "# You can get the content of a response as a Python object by using the .json() method on the response.\n",
    "\n",
    "parameters = {\"lat\": 37.78, \"lon\": -122.41}\n",
    "response = requests.get(\"http://api.open-notify.org/iss-pass.json\", params=parameters)\n",
    "\n",
    "# Get the response data as a python object.  Verify that it's a dictionary.\n",
    "data = response.json()\n",
    "print(type(data))\n",
    "print()\n",
    "\n",
    "print(data)\n",
    "print()\n",
    "\n",
    "keys = list(data.keys())\n",
    "for key in keys:\n",
    "    print('{0}: {1}'.format(key, data[key]))\n",
    "\n",
    "print()\n",
    "first_pass_duration = data['response'][0]['duration']\n",
    "print('duration key of the first dictionary in the response list =', first_pass_duration)"
   ]
  }
 ],
 "metadata": {
  "kernelspec": {
   "display_name": "Python 3",
   "language": "python",
   "name": "python3"
  },
  "language_info": {
   "codemirror_mode": {
    "name": "ipython",
    "version": 3
   },
   "file_extension": ".py",
   "mimetype": "text/x-python",
   "name": "python",
   "nbconvert_exporter": "python",
   "pygments_lexer": "ipython3",
   "version": "3.5.2"
  }
 },
 "nbformat": 4,
 "nbformat_minor": 1
}
